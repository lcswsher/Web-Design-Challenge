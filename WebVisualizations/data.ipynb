{
 "cells": [
  {
   "cell_type": "code",
   "execution_count": 1,
   "id": "d463fafd",
   "metadata": {},
   "outputs": [],
   "source": [
    "import pandas as pd\n",
    "import numpy as np"
   ]
  },
  {
   "cell_type": "code",
   "execution_count": 2,
   "id": "18561bbc",
   "metadata": {},
   "outputs": [],
   "source": [
    "# File to Load (Remember to Change These)\n",
    "file_to_load = \"Resources/cities.csv\""
   ]
  },
  {
   "cell_type": "code",
   "execution_count": 8,
   "id": "eca0b6ec",
   "metadata": {},
   "outputs": [],
   "source": [
    "# To store the Purchase_data file into a Pandas data frame\n",
    "data = pd.read_csv(file_to_load)\n",
    "# data_df = pd.DataFrame.to_html(data)"
   ]
  },
  {
   "cell_type": "code",
   "execution_count": 11,
   "id": "6b0ffb20",
   "metadata": {},
   "outputs": [],
   "source": [
    "data.to_html('C:\\\\Users\\lcswi\\\\my_html.html',index=False)"
   ]
  },
  {
   "cell_type": "code",
   "execution_count": null,
   "id": "8615730f",
   "metadata": {},
   "outputs": [],
   "source": []
  }
 ],
 "metadata": {
  "kernelspec": {
   "display_name": "Python 3",
   "language": "python",
   "name": "python3"
  },
  "language_info": {
   "codemirror_mode": {
    "name": "ipython",
    "version": 3
   },
   "file_extension": ".py",
   "mimetype": "text/x-python",
   "name": "python",
   "nbconvert_exporter": "python",
   "pygments_lexer": "ipython3",
   "version": "3.8.5"
  }
 },
 "nbformat": 4,
 "nbformat_minor": 5
}
